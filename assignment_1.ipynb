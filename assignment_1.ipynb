{
 "cells": [
  {
   "cell_type": "markdown",
   "metadata": {
    "id": "hia1cPPnbt-6"
   },
   "source": [
    "## Exercise 0\n",
    "\n",
    "Write your own simple function with simple documentation and all types of arguments (positional, positional with defaults, arbitrary args, keyword args, arbitrary keyword args)"
   ]
  },
  {
   "cell_type": "code",
   "execution_count": 1,
   "metadata": {
    "id": "82YW6fgZbppO"
   },
   "outputs": [],
   "source": [
    "# your code here\n",
    "def my_function(name, major='Data Science', *args, semester=1, **kwargs):\n",
    "    \"\"\"Pass in the user's name, HS major, semester, favourite books, and list of grocery (in the format of product=amount)\n",
    "    and print out the information.\"\"\"\n",
    "    print(f'Hello {name}! You are the student in {major} Major and currently study you semester {semester}.')\n",
    "    print('------------------------------------------------------')\n",
    "    print('These are a list of your favourie books:')\n",
    "    for index in range(len(args)):\n",
    "        print(f'{index + 1}. {args[index]}')\n",
    "    print('------------------------------------------------------')\n",
    "    print('Here is what you need to buy.')\n",
    "    for product in kwargs:\n",
    "        print(f'{product} for {kwargs[product]} unit(s)')"
   ]
  },
  {
   "cell_type": "code",
   "execution_count": 2,
   "metadata": {},
   "outputs": [
    {
     "name": "stdout",
     "output_type": "stream",
     "text": [
      "Hello Due! You are the student in Data Science Major and currently study you semester 2.\n",
      "------------------------------------------------------\n",
      "These are a list of your favourie books:\n",
      "1. A series of unfortunate events\n",
      "2. A tale dark and grimm\n",
      "------------------------------------------------------\n",
      "Here is what you need to buy.\n",
      "eggs for 12 unit(s)\n",
      "corns for 2 unit(s)\n",
      "icecream for 2 unit(s)\n"
     ]
    }
   ],
   "source": [
    "my_function('Due', 'Data Science', 'A series of unfortunate events', 'A tale dark and grimm', semester=2, eggs=12, corns=2, icecream=2)"
   ]
  },
  {
   "cell_type": "markdown",
   "metadata": {
    "id": "HYhlKVnwTYzD"
   },
   "source": [
    "## Exercise 1\n"
   ]
  },
  {
   "cell_type": "code",
   "execution_count": 3,
   "metadata": {
    "id": "gv_TvLaHTXh8"
   },
   "outputs": [],
   "source": [
    "def is_prime(n):\n",
    "    \"\"\"\n",
    "    Check if the number is prime or not.\n",
    "    \"\"\"\n",
    "    if n == 1:\n",
    "        return False\n",
    "        \n",
    "    for number in range(2, int(n ** 0.5) + 1):\n",
    "        if n % number == 0:\n",
    "            return False\n",
    "    \n",
    "    return True"
   ]
  },
  {
   "cell_type": "code",
   "execution_count": 4,
   "metadata": {},
   "outputs": [
    {
     "data": {
      "text/plain": [
       "False"
      ]
     },
     "execution_count": 4,
     "metadata": {},
     "output_type": "execute_result"
    }
   ],
   "source": [
    "is_prime(492125)"
   ]
  },
  {
   "cell_type": "markdown",
   "metadata": {
    "id": "1FXsMX-RKOBG"
   },
   "source": [
    "## Exercise 2\n",
    "\n",
    "[Inspect](https://docs.python.org/3.7/library/inspect.html) will help you. Use `my_function` for tests.\n",
    "\n"
   ]
  },
  {
   "cell_type": "code",
   "execution_count": 37,
   "metadata": {
    "id": "g68Y9DfNQcYD"
   },
   "outputs": [],
   "source": [
    "import inspect\n",
    "\n",
    "def inspect_function(func):\n",
    "    \"\"\"\n",
    "    Takes another function as an argument (but not built-in) \n",
    "    and print the following data: \n",
    "    the name of the analyzed function, \n",
    "    the name of all the arguments it takes \n",
    "    and their types (positional, keyword, etc.)\n",
    "    \"\"\"\n",
    "    print(f'You want to inspect \\\"{func.__name__}\\\".')\n",
    "    print('These are all paremeters:')\n",
    "    sig = inspect.signature(func)\n",
    "    for param in sig.parameters.values():\n",
    "        print(f'    {param.name}: {param.kind}')"
   ]
  },
  {
   "cell_type": "code",
   "execution_count": 38,
   "metadata": {},
   "outputs": [
    {
     "name": "stdout",
     "output_type": "stream",
     "text": [
      "You want to inspect \"my_function\".\n",
      "These are all paremeters:\n",
      "    name: POSITIONAL_OR_KEYWORD\n",
      "    major: POSITIONAL_OR_KEYWORD\n",
      "    args: VAR_POSITIONAL\n",
      "    semester: KEYWORD_ONLY\n",
      "    kwargs: VAR_KEYWORD\n"
     ]
    }
   ],
   "source": [
    "inspect_function(my_function)"
   ]
  },
  {
   "cell_type": "markdown",
   "metadata": {
    "id": "oRaKEc0ZIgNs"
   },
   "source": [
    "## Exercise 3"
   ]
  },
  {
   "cell_type": "markdown",
   "metadata": {
    "id": "xmdOYiCrGpUd"
   },
   "source": [
    "The `my_time_now` function is not working correctly. Correct it so that it displays the current time with a message. "
   ]
  },
  {
   "cell_type": "code",
   "execution_count": 41,
   "metadata": {
    "id": "645BoTXIGnHr"
   },
   "outputs": [],
   "source": [
    "from datetime import datetime\n",
    "from time import sleep\n",
    " \n",
    "# wrong function\n",
    "def my_time_now(msg, *, dt=None):\n",
    "    dt = dt or datetime.now()\n",
    "    print(msg, dt)\n",
    " \n"
   ]
  },
  {
   "cell_type": "code",
   "execution_count": 42,
   "metadata": {
    "id": "3NeyF9UJHeyd"
   },
   "outputs": [
    {
     "name": "stdout",
     "output_type": "stream",
     "text": [
      "The time is now:  2022-10-09 12:04:40.626849\n",
      "The time is now:  2022-10-09 12:04:41.632600\n",
      "The time is now:  2022-10-09 12:04:42.638502\n"
     ]
    }
   ],
   "source": [
    "# simple tests :)\n",
    "my_time_now('The time is now: ')\n",
    "sleep(1)\n",
    "my_time_now('The time is now: ')\n",
    "sleep(1)\n",
    "my_time_now('The time is now: ')"
   ]
  },
  {
   "cell_type": "markdown",
   "metadata": {
    "id": "Qap8_Jb2ENra"
   },
   "source": [
    "## Exercise 4"
   ]
  },
  {
   "cell_type": "code",
   "execution_count": 96,
   "metadata": {
    "id": "JBwZGo84EMW1"
   },
   "outputs": [],
   "source": [
    "def limit(input_generator, max_count):\n",
    "    \"\"\"\n",
    "    Generator that returns not more than max_count values of the input_generator.\n",
    "    \"\"\"\n",
    "    count = 0\n",
    "    for val in iter(input_generator):\n",
    "        yield val\n",
    "        count += 1\n",
    "        if count >= max_count:\n",
    "            break"
   ]
  },
  {
   "cell_type": "code",
   "execution_count": 97,
   "metadata": {},
   "outputs": [],
   "source": [
    "def cubes():\n",
    "    i = 0\n",
    "    while True:\n",
    "        yield i ** 3\n",
    "        i += 1"
   ]
  },
  {
   "cell_type": "code",
   "execution_count": 98,
   "metadata": {},
   "outputs": [
    {
     "name": "stdout",
     "output_type": "stream",
     "text": [
      "0 1 8 27 64 "
     ]
    }
   ],
   "source": [
    "for value in limit(cubes(), 5):\n",
    "    print(value, end=' ')"
   ]
  },
  {
   "cell_type": "markdown",
   "metadata": {
    "id": "BvwCKaOxRQ3N"
   },
   "source": [
    "## Exercise 5\n",
    "\n",
    "Write a generator for an infinite sequence of numbers from the Pascal's triangle. The sequence look like this:\n",
    "`1 1 1 1 2 1 1 3 3 1 1 4 6 4 1 1 5 10 10 5 1 1 6 15 20 15 6 1 1 7 21 35 35 21 7 1 1 8 28 56 70 56 28 8 1 1 9 36 84 126 126 84 36 9 1 ... '\n",
    "\n",
    "Test it with a generator from the previous task)"
   ]
  },
  {
   "cell_type": "code",
   "execution_count": 53,
   "metadata": {
    "id": "EBNNXBUYUqKJ"
   },
   "outputs": [],
   "source": [
    "from math import comb\n",
    "\n",
    "def pascal_sequence():\n",
    "    column = 0\n",
    "    row = 0\n",
    "    while True:\n",
    "        yield comb(row, column)\n",
    "\n",
    "        if column == row:\n",
    "            row += 1\n",
    "            column = 0\n",
    "        else:\n",
    "            column += 1\n"
   ]
  },
  {
   "cell_type": "code",
   "execution_count": 99,
   "metadata": {},
   "outputs": [
    {
     "name": "stdout",
     "output_type": "stream",
     "text": [
      "1 1 1 1 2 1 1 3 3 1 1 4 6 4 1 1 5 10 10 5 1 1 6 15 20 15 6 1 1 7 21 35 35 21 7 1 1 8 28 56 70 56 28 8 1 1 9 36 84 126 "
     ]
    }
   ],
   "source": [
    "for value in limit(pascal_sequence(), 50):\n",
    "    print(value, end=' ')"
   ]
  },
  {
   "cell_type": "markdown",
   "metadata": {
    "id": "vUiY14pIEiNC"
   },
   "source": [
    "## Exercise 6\n"
   ]
  },
  {
   "cell_type": "code",
   "execution_count": 112,
   "metadata": {
    "id": "eGLSDqNHGFYn"
   },
   "outputs": [],
   "source": [
    "import os\n",
    "\n",
    "def files_sorted_by_size(path_to_dir):\n",
    "    \"\"\"\n",
    "    Return a list of files in path_to_dir sorted by size.\n",
    "    The same size files sorted alphabetically\n",
    "    \"\"\"\n",
    "    file_list = os.listdir(path_to_dir)\n",
    "    size_and_file_list = list(map(lambda x: (x, os.stat('/'.join([path_to_dir, x])).st_size), file_list))\n",
    "    size_and_file_list.sort(key=lambda x: x[1])\n",
    "    sorted_file = [file[0] for file in size_and_file_list]\n",
    "    \n",
    "    return sorted_file"
   ]
  },
  {
   "cell_type": "markdown",
   "metadata": {
    "id": "43eeoixHSa9Y"
   },
   "source": [
    "## Exercise 7\n",
    "\n",
    "Write a `merge_sorter` generator that merges sorted sequences of integers.\n",
    "\n",
    "The generator takes an arbitrary number of arguments. The argument can be any iterable, including another generator. It is guaranteed that each argument is a sequence of integers, sorted in non-decreasing order."
   ]
  },
  {
   "cell_type": "code",
   "execution_count": 84,
   "metadata": {
    "id": "VHmnqHVaScox"
   },
   "outputs": [],
   "source": [
    "from numpy import Inf\n",
    "\n",
    "def merge_sorter(*args):\n",
    "    number_of_args = len(args)\n",
    "    args = tuple(map(iter, args))\n",
    "    current_values = [Inf] * number_of_args\n",
    "    for index in range(number_of_args):\n",
    "        current_values[index] = next(args[index])\n",
    "    \n",
    "    while number_of_args != current_values.count(Inf):\n",
    "        minimum_number = current_values[0]\n",
    "        current_index = 0\n",
    "\n",
    "        for index in range(1, number_of_args):\n",
    "            if current_values[index] < minimum_number:\n",
    "                minimum_number = current_values[index]\n",
    "                current_index = index\n",
    "        \n",
    "        yield minimum_number\n",
    "\n",
    "        current_values[current_index] = next(args[current_index], Inf)"
   ]
  },
  {
   "cell_type": "code",
   "execution_count": 100,
   "metadata": {},
   "outputs": [
    {
     "name": "stdout",
     "output_type": "stream",
     "text": [
      "1 1 1 1 1 2 2 1 1 3 3 3 1 1 4 4 5 6 6 4 "
     ]
    }
   ],
   "source": [
    "for value in limit(merge_sorter([4, 5], [1, 2, 3], (6, 7), pascal_sequence()), 20):\n",
    "    print(value, end=' ')"
   ]
  },
  {
   "cell_type": "markdown",
   "metadata": {
    "id": "7AF_IQRQVQ-k"
   },
   "source": [
    "## Exercise 8\n",
    "\n",
    "Write the decorator `proﬁler`, which, when calling a function, will store in its attributes (not to be confused with arguments) the time of its execution (in seconds, it can be fractional) and the number of recursive calls that occurred during execution. Name the attributes `last_time_taken` and `calls`.\n",
    "It is forbidden to use global variables.\n",
    "The decorator must behave in a decent manner, that is, it must not overwrite the function's documentation.\n",
    "\n",
    "For tests write [Ackermann function](https://en.wikipedia.org/wiki/Ackermann_function)"
   ]
  },
  {
   "cell_type": "code",
   "execution_count": 163,
   "metadata": {
    "id": "WyJ02jbTVQiu"
   },
   "outputs": [],
   "source": [
    "import functools\n",
    "from time import time\n",
    "from timeit import timeit\n",
    "\n",
    "def profiler(func):\n",
    "    start_time = time()\n",
    "    call = 0\n",
    "    @functools.wraps(func)\n",
    "    def inner(*args, **kwargs):\n",
    "        inner.calls = call + 1\n",
    "        return func(*args, **kwargs)\n",
    "    stop_time = time()\n",
    "    inner.last_time_taken = stop_time - start_time\n",
    "    return inner\n",
    "\n",
    "@profiler\n",
    "def ackermann(n, m):\n",
    "    if n == 0:\n",
    "        return m + 1\n",
    "    \n",
    "    if m == 0:\n",
    "        return ackermann(n - 1, 1)\n",
    "    \n",
    "    return ackermann(n - 1, ackermann(n, m - 1))"
   ]
  },
  {
   "cell_type": "code",
   "execution_count": 164,
   "metadata": {},
   "outputs": [
    {
     "name": "stdout",
     "output_type": "stream",
     "text": [
      "6.9141387939453125e-06\n",
      "1\n"
     ]
    }
   ],
   "source": [
    "ackermann(3, 3)\n",
    "print(ackermann.last_time_taken)\n",
    "print(ackermann.calls)"
   ]
  },
  {
   "cell_type": "markdown",
   "metadata": {
    "id": "QcjAealUfs2Q"
   },
   "source": [
    "## Exercise 9\n",
    "\n",
    "Write the function `encode` that implements [run-length encoding](https://en.wikipedia.org/wiki/Run-length_encoding) algorithm"
   ]
  },
  {
   "cell_type": "code",
   "execution_count": 165,
   "metadata": {
    "id": "tBhwbMm9fsMv"
   },
   "outputs": [],
   "source": [
    "def encode(sequence):\n",
    "    compacted_seq = ''\n",
    "    counter = 1\n",
    "    for index in range(1, len(sequence)):\n",
    "        if sequence[index] == sequence[index - 1]:\n",
    "            counter += 1\n",
    "        else:\n",
    "            compacted_seq += str(counter) + sequence[index - 1]\n",
    "            counter = 1\n",
    "    compacted_seq += str(counter) + sequence[index - 1]\n",
    "    return compacted_seq"
   ]
  },
  {
   "cell_type": "code",
   "execution_count": 166,
   "metadata": {},
   "outputs": [
    {
     "data": {
      "text/plain": [
       "'12W1B12W3B24W1B14W'"
      ]
     },
     "execution_count": 166,
     "metadata": {},
     "output_type": "execute_result"
    }
   ],
   "source": [
    "encode('WWWWWWWWWWWWBWWWWWWWWWWWWBBBWWWWWWWWWWWWWWWWWWWWWWWWBWWWWWWWWWWWWWW')"
   ]
  }
 ],
 "metadata": {
  "colab": {
   "collapsed_sections": [],
   "name": "home-assignment04",
   "provenance": []
  },
  "kernelspec": {
   "display_name": "Python 3.8.13 ('base')",
   "language": "python",
   "name": "python3"
  },
  "language_info": {
   "codemirror_mode": {
    "name": "ipython",
    "version": 3
   },
   "file_extension": ".py",
   "mimetype": "text/x-python",
   "name": "python",
   "nbconvert_exporter": "python",
   "pygments_lexer": "ipython3",
   "version": "3.8.13"
  },
  "vscode": {
   "interpreter": {
    "hash": "2bc6bd3c3828a38b57a0f0e8f462bca16cc55264cde0654520fd1bbe1e18b17c"
   }
  }
 },
 "nbformat": 4,
 "nbformat_minor": 1
}
